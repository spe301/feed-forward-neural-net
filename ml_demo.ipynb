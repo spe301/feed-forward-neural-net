{
 "cells": [
  {
   "cell_type": "code",
   "execution_count": 4,
   "metadata": {},
   "outputs": [
    {
     "name": "stdout",
     "output_type": "stream",
     "text": [
      "[[0.00197173]\n",
      " [0.00163392]\n",
      " [0.99804356]\n",
      " [0.99782397]]\n"
     ]
    }
   ],
   "source": [
    "import numpy as np\n",
    "\n",
    "def nonlin(x,deriv=False):\n",
    "    if(deriv==True):\n",
    "        return x*(1-x)\n",
    "    return 1/(1+np.exp(-x))\n",
    "\n",
    "X = np.array([[0,0,1],\n",
    "              [0,1,1],\n",
    "              [1,0,1],\n",
    "              [1,1,1]])\n",
    "\n",
    "y = np.array([[0],\n",
    "              [0],\n",
    "              [1],\n",
    "              [1]])\n",
    "\n",
    "np.random.seed(1)\n",
    "\n",
    "syn0 = 2*np.random.random((3,4))-1\n",
    "syn1 = 2*np.random.random((4,1))-1\n",
    "\n",
    "for iterate in range(60000):\n",
    "    IL = X\n",
    "    HL = nonlin(np.dot(IL,syn0))\n",
    "    OL = nonlin(np.dot(HL,syn1))\n",
    "    OL_error = y - OL\n",
    "    OL_delta = OL_error * nonlin(OL,True)\n",
    "    HL_error = OL_delta.dot(syn1.T)\n",
    "    HL_delta = HL_error * nonlin(HL,True)\n",
    "    syn1 += HL.T.dot(OL_delta)\n",
    "    syn0 += IL.T.dot(HL_delta)\n",
    "    \n",
    "print(OL)"
   ]
  },
  {
   "cell_type": "code",
   "execution_count": 5,
   "metadata": {},
   "outputs": [
    {
     "name": "stdout",
     "output_type": "stream",
     "text": [
      "output after training:\n",
      "[[8.65860032e-04]\n",
      " [9.98300394e-01]\n",
      " [9.98882772e-01]\n",
      " [1.36328563e-03]]\n"
     ]
    }
   ],
   "source": [
    "# with 2 hidden layers\n",
    "import numpy as np\n",
    "\n",
    "#now we define our sigmoid function\n",
    "def nonlin(x,deriv=False):\n",
    "    if(deriv==True):\n",
    "        return x*(1-x)\n",
    "    return 1/(1+np.exp(-x))\n",
    "\n",
    "X = np.array([ [0,0,1],\n",
    "               [0,1,1],\n",
    "               [1,0,1],\n",
    "               [1,1,1]])\n",
    "\n",
    "y = np.array([[0],\n",
    "              [1],\n",
    "              [1],\n",
    "              [0]])\n",
    "\n",
    "np.random.seed(1)\n",
    "\n",
    "syn0 = 2*np.random.random((3,4)) - 1\n",
    "syn1 = 2*np.random.random((4,5)) - 1\n",
    "syn2 = 2*np.random.random((5,1)) - 1\n",
    "#l1 will be our hidden layer\n",
    "for j in range(110000):\n",
    "    l0 = X\n",
    "    l1 = nonlin(np.dot(l0,syn0))\n",
    "    l2 = nonlin(np.dot(l1,syn1))\n",
    "    l3 = nonlin(np.dot(l2,syn2))\n",
    "    l3_error = y - l3\n",
    "    l3_delta = l3_error * nonlin(l3,deriv=True)\n",
    "    #assign error and delta to the hidden layer as well!\n",
    "    #uses the \"confidence weighted error\" from l2 to establish an error for l1.\n",
    "    l2_error = l3_delta.dot(syn2.T)\n",
    "    l2_delta = l2_error * nonlin(l2,deriv=True)\n",
    "    l1_error = l2_delta.dot(syn1.T)\n",
    "    l1_delta = l1_error * nonlin(l1,deriv=True)\n",
    "    # when updating weights use +=, not =\n",
    "    syn2 += l2.T.dot(l3_delta)\n",
    "    syn1 += l1.T.dot(l2_delta)\n",
    "    syn0 += l0.T.dot(l1_delta)\n",
    "\n",
    "print(\"output after training:\")\n",
    "print(l3) \n",
    "#print(y)"
   ]
  },
  {
   "cell_type": "code",
   "execution_count": null,
   "metadata": {},
   "outputs": [],
   "source": []
  }
 ],
 "metadata": {
  "kernelspec": {
   "display_name": "Python 3",
   "language": "python",
   "name": "python3"
  },
  "language_info": {
   "codemirror_mode": {
    "name": "ipython",
    "version": 3
   },
   "file_extension": ".py",
   "mimetype": "text/x-python",
   "name": "python",
   "nbconvert_exporter": "python",
   "pygments_lexer": "ipython3",
   "version": "3.7.4"
  }
 },
 "nbformat": 4,
 "nbformat_minor": 2
}
